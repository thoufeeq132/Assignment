{
 "cells": [
  {
   "cell_type": "markdown",
   "id": "6a7c1912",
   "metadata": {},
   "source": [
    "# Assignment_6(1)"
   ]
  },
  {
   "cell_type": "markdown",
   "id": "4aa310f3",
   "metadata": {},
   "source": [
    "# 1. Create a JSON file (employee.json) containing employee information of minimum 5 employees. Each employee information consists of Name, DOB, Height, City, State. Write a python program that reads this information from the JSON file and saves the information into a list of objects of Employee class. Finally print the list of the Employee objects."
   ]
  },
  {
   "cell_type": "code",
   "execution_count": 12,
   "id": "51c2740b",
   "metadata": {},
   "outputs": [],
   "source": [
    "import json"
   ]
  },
  {
   "cell_type": "code",
   "execution_count": 18,
   "id": "c3634c24",
   "metadata": {},
   "outputs": [],
   "source": [
    "employee_list = []\n",
    "for \n",
    "employee_list.append({\"Name\": \"John\", \"DOB\": \"1990-01-01\", \"Height\": 170, \"City\": \"Mumbai\", \"State\": \"Maharashtra\"})\n",
    "employee_list.append({\"Name\": \"Jane\", \"DOB\": \"1992-05-15\", \"Height\": 165, \"City\": \"Bangalore\", \"State\": \"Karnataka\"})\n",
    "employee_list.append({\"Name\": \"David\", \"DOB\": \"1985-09-30\", \"Height\": 175, \"City\": \"Delhi\", \"State\": \"Delhi\"})\n",
    "employee_list.append({\"Name\": \"Sara\", \"DOB\": \"1993-11-20\", \"Height\": 160, \"City\": \"Hyderabad\", \"State\": \"Telangana\"})\n",
    "employee_list.append({\"Name\": \"Tom\", \"DOB\": \"1988-06-10\", \"Height\": 180, \"City\": \"Chennai\", \"State\": \"Tamil Nadu\"})\n",
    "\n",
    "with open(\"employee.json\", \"w\") as f:\n",
    "    json.dump(employee_list, f)"
   ]
  },
  {
   "cell_type": "code",
   "execution_count": 19,
   "id": "7944768f",
   "metadata": {},
   "outputs": [
    {
     "name": "stdout",
     "output_type": "stream",
     "text": [
      "John (1990-01-01), 170, Mumbai, Maharashtra\n",
      "Jane (1992-05-15), 165, Bangalore, Karnataka\n",
      "David (1985-09-30), 175, Delhi, Delhi\n",
      "Sara (1993-11-20), 160, Hyderabad, Telangana\n",
      "Tom (1988-06-10), 180, Chennai, Tamil Nadu\n"
     ]
    }
   ],
   "source": [
    "import json\n",
    "\n",
    "class Employee:\n",
    "    def __init__(self, name, dob, height, city, state):\n",
    "        self.name = name\n",
    "        self.dob = dob\n",
    "        self.height = height\n",
    "        self.city = city\n",
    "        self.state = state\n",
    "        \n",
    "    def __str__(self):\n",
    "        return f\"{self.name} ({self.dob}), {self.height}, {self.city}, {self.state}\"\n",
    "\n",
    "with open('employee.json') as f:\n",
    "    data = json.load(f)\n",
    "    \n",
    "employees = []\n",
    "for emp in data:\n",
    "    employee = Employee(emp['Name'], emp['DOB'], emp['Height'], emp['City'], emp['State'])\n",
    "    employees.append(employee)\n",
    "\n",
    "for emp in employees:\n",
    "    print(emp)\n"
   ]
  },
  {
   "cell_type": "markdown",
   "id": "ee3cd6b3",
   "metadata": {},
   "source": [
    "# Create a dictionary of any 7 Indian states and their capitals. Write this into a JSON file. "
   ]
  },
  {
   "cell_type": "code",
   "execution_count": 20,
   "id": "8edb9d1a",
   "metadata": {},
   "outputs": [],
   "source": [
    "import json\n",
    "\n",
    "indian_states = {\n",
    "    \"Andhra Pradesh\": \"Hyderabad\",\n",
    "    \"Arunachal Pradesh\": \"Itanagar\",\n",
    "    \"Assam\": \"Dispur\",\n",
    "    \"Bihar\": \"Patna\",\n",
    "    \"Gujarat\": \"Gandhinagar\",\n",
    "    \"Karnataka\": \"Bengaluru\",\n",
    "    \"Tamil Nadu\": \"Chennai\"\n",
    "}\n",
    "\n",
    "\n",
    "with open(\"indian_states.json\", \"w\") as f:\n",
    "    json.dump(indian_states, f)\n"
   ]
  },
  {
   "cell_type": "code",
   "execution_count": null,
   "id": "b2d92041",
   "metadata": {},
   "outputs": [],
   "source": []
  },
  {
   "cell_type": "markdown",
   "id": "e08a2385",
   "metadata": {},
   "source": [
    "# Assignment_6(2)"
   ]
  },
  {
   "cell_type": "code",
   "execution_count": 24,
   "id": "ea55d4cf",
   "metadata": {},
   "outputs": [],
   "source": [
    "class Dog:\n",
    "    def __init__(self, name, age, coat_color):\n",
    "        self.name = name\n",
    "        self.age = age\n",
    "        self.coat_color = coat_color\n",
    "\n",
    "    def description(self):\n",
    "        print(f\"My name is {self.name} and I am {self.age} years old.\")\n",
    "\n",
    "    def get_info(self):\n",
    "        print(f\"My coat color is {self.coat_color}.\")\n",
    "\n",
    "\n",
    "class JackRussellTerrier(Dog):\n",
    "    def __init__(self, name, age, coat_color):\n",
    "        super().__init__(name, age, coat_color)\n",
    "\n",
    "    def bark(self):\n",
    "        print(\"Woof! Woof!\")\n",
    "\n",
    "\n",
    "class Bulldog(Dog):\n",
    "    def __init__(self, name, age, coat_color):\n",
    "        super().__init__(name, age, coat_color)\n",
    "        \n",
    "my_dog = Dog(\"Max\", 5, \"brown\")\n"
   ]
  },
  {
   "cell_type": "code",
   "execution_count": 22,
   "id": "172fe27e",
   "metadata": {},
   "outputs": [
    {
     "ename": "NameError",
     "evalue": "name 'Dog' is not defined",
     "output_type": "error",
     "traceback": [
      "\u001b[1;31m---------------------------------------------------------------------------\u001b[0m",
      "\u001b[1;31mNameError\u001b[0m                                 Traceback (most recent call last)",
      "Input \u001b[1;32mIn [22]\u001b[0m, in \u001b[0;36m<cell line: 1>\u001b[1;34m()\u001b[0m\n\u001b[1;32m----> 1\u001b[0m my_dog \u001b[38;5;241m=\u001b[39m \u001b[43mDog\u001b[49m(\u001b[38;5;124m\"\u001b[39m\u001b[38;5;124mMax\u001b[39m\u001b[38;5;124m\"\u001b[39m, \u001b[38;5;241m5\u001b[39m, \u001b[38;5;124m\"\u001b[39m\u001b[38;5;124mbrown\u001b[39m\u001b[38;5;124m\"\u001b[39m)\n\u001b[0;32m      3\u001b[0m my_dog\u001b[38;5;241m.\u001b[39mdescription()\n\u001b[0;32m      4\u001b[0m my_dog\u001b[38;5;241m.\u001b[39mget_info()\n",
      "\u001b[1;31mNameError\u001b[0m: name 'Dog' is not defined"
     ]
    }
   ],
   "source": [
    "\n",
    "\n",
    "\n",
    "my_dog.description()\n",
    "my_dog.get_info()\n",
    "my_jrt = JackRussellTerrier(\"Buddy\", 3, \"white\")\n",
    "\n",
    "my_jrt.description()\n",
    "my_jrt.get_info()\n",
    "my_jrt.bark()\n",
    "\n",
    "my_bulldog = Bulldog(\"Rocky\", 4, \"grey\")\n",
    "\n",
    "my_bulldog.description()\n",
    "my_bulldog.get_info()\n",
    "\n"
   ]
  },
  {
   "cell_type": "code",
   "execution_count": null,
   "id": "19bef1e0",
   "metadata": {},
   "outputs": [],
   "source": []
  }
 ],
 "metadata": {
  "kernelspec": {
   "display_name": "Python 3 (ipykernel)",
   "language": "python",
   "name": "python3"
  },
  "language_info": {
   "codemirror_mode": {
    "name": "ipython",
    "version": 3
   },
   "file_extension": ".py",
   "mimetype": "text/x-python",
   "name": "python",
   "nbconvert_exporter": "python",
   "pygments_lexer": "ipython3",
   "version": "3.9.12"
  }
 },
 "nbformat": 4,
 "nbformat_minor": 5
}
