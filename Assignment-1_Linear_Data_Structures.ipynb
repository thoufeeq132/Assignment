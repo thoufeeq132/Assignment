{
 "cells": [
  {
   "cell_type": "markdown",
   "id": "f8f34b50",
   "metadata": {},
   "source": [
    "# Write a program to find all pairs of an integer array whose sum is equal to a given number?"
   ]
  },
  {
   "cell_type": "markdown",
   "id": "b41c2119",
   "metadata": {},
   "source": []
  },
  {
   "cell_type": "code",
   "execution_count": 1,
   "id": "0e34a247",
   "metadata": {},
   "outputs": [
    {
     "name": "stdout",
     "output_type": "stream",
     "text": [
      "[(1, 6), (2, 5), (3, 4)]\n"
     ]
    }
   ],
   "source": [
    "def find_pairs(arr, target_sum):\n",
    "    pairs = []\n",
    "    \n",
    "    for i in range(len(arr)):\n",
    "        \n",
    "        for j in range(i+1, len(arr)):\n",
    "            if arr[i] + arr[j] == target_sum:\n",
    "                pairs.append((arr[i], arr[j]))\n",
    "    return pairs\n",
    "\n",
    "\n",
    "arr = [1, 2, 3, 4, 5, 6]\n",
    "target_sum = 7\n",
    "pairs = find_pairs(arr, target_sum)\n",
    "print(pairs) "
   ]
  },
  {
   "cell_type": "markdown",
   "id": "10575dc7",
   "metadata": {},
   "source": [
    "# Write a program to reverse an array in place? In place means you cannot create a new array. You have to update the original array."
   ]
  },
  {
   "cell_type": "code",
   "execution_count": 2,
   "id": "36e5cb16",
   "metadata": {},
   "outputs": [
    {
     "name": "stdout",
     "output_type": "stream",
     "text": [
      "[5, 4, 3, 2, 1]\n"
     ]
    }
   ],
   "source": [
    "def reverse_array(arr):\n",
    "    \n",
    "    start = 0\n",
    "    end = len(arr) - 1\n",
    "\n",
    "    \n",
    "    while start < end:\n",
    "        arr[start], arr[end] = arr[end], arr[start]\n",
    "        start += 1\n",
    "        end -= 1\n",
    "\n",
    "\n",
    "arr = [1, 2, 3, 4, 5]\n",
    "reverse_array(arr)\n",
    "print(arr)  "
   ]
  },
  {
   "cell_type": "markdown",
   "id": "4850b42c",
   "metadata": {},
   "source": [
    "# Write a program to check if two strings are a rotation of each other?"
   ]
  },
  {
   "cell_type": "code",
   "execution_count": 4,
   "id": "9af1313d",
   "metadata": {},
   "outputs": [
    {
     "name": "stdout",
     "output_type": "stream",
     "text": [
      "The two strings are rotations of each other\n"
     ]
    }
   ],
   "source": [
    "def are_rotations(str1, str2):\n",
    "    if len(str1) != len(str2):\n",
    "        return False\n",
    "    temp = str1 + str1\n",
    "    if str2 in temp:\n",
    "        return True\n",
    "    else:\n",
    "        return False\n",
    "\n",
    "\n",
    "str1 = \"abcd\"\n",
    "str2 = \"cdab\"\n",
    "if are_rotations(str1, str2):\n",
    "    print(\"The two strings are rotations of each other\")\n",
    "else:\n",
    "    print(\"The two strings are not rotations of each other\")\n",
    "\n"
   ]
  },
  {
   "cell_type": "markdown",
   "id": "0f63d275",
   "metadata": {},
   "source": [
    "# Write a program to print the first non-repeated character from a string?\n"
   ]
  },
  {
   "cell_type": "code",
   "execution_count": 5,
   "id": "7acdb641",
   "metadata": {},
   "outputs": [
    {
     "name": "stdout",
     "output_type": "stream",
     "text": [
      "The first non-repeated character in the string is: h\n"
     ]
    }
   ],
   "source": [
    "def find_first_non_repeated_char(string):\n",
    "    char_count = {}\n",
    "    \n",
    "    \n",
    "    for char in string:\n",
    "        if char in char_count:\n",
    "            char_count[char] += 1\n",
    "        else:\n",
    "            char_count[char] = 1\n",
    "    \n",
    "   \n",
    "    for char in string:\n",
    "        if char_count[char] == 1:\n",
    "            return char\n",
    "    \n",
    "   \n",
    "    return None\n",
    "\n",
    "\n",
    "string = \"hello world\"\n",
    "result = find_first_non_repeated_char(string)\n",
    "\n",
    "if result:\n",
    "    print(\"The first non-repeated character in the string is:\", result)\n",
    "else:\n",
    "    print(\"No non-repeated character found in the string.\")\n"
   ]
  },
  {
   "cell_type": "markdown",
   "id": "ff81cd99",
   "metadata": {},
   "source": [
    "# Read about the Tower of Hanoi algorithm. Write a program to implement it."
   ]
  },
  {
   "cell_type": "code",
   "execution_count": 6,
   "id": "5d33fab0",
   "metadata": {},
   "outputs": [
    {
     "name": "stdout",
     "output_type": "stream",
     "text": [
      "Move disk 1 from A to C\n",
      "Move disk 2 from A to B\n",
      "Move disk 1 from C to B\n",
      "Move disk 3 from A to C\n",
      "Move disk 1 from B to A\n",
      "Move disk 2 from B to C\n",
      "Move disk 1 from A to C\n"
     ]
    }
   ],
   "source": [
    "def tower_of_hanoi(n, source, auxiliary, destination):\n",
    "    if n == 1:\n",
    "        print(f\"Move disk 1 from {source} to {destination}\")\n",
    "        return\n",
    "    \n",
    "    tower_of_hanoi(n-1, source, destination, auxiliary)\n",
    "    print(f\"Move disk {n} from {source} to {destination}\")\n",
    "    tower_of_hanoi(n-1, auxiliary, source, destination)\n",
    "\n",
    "\n",
    "tower_of_hanoi(3, 'A', 'B', 'C')\n"
   ]
  },
  {
   "cell_type": "markdown",
   "id": "5648ebb1",
   "metadata": {},
   "source": [
    "# Read about infix, prefix, and postfix expressions. Write a program to convert postfix to prefix expression."
   ]
  },
  {
   "cell_type": "code",
   "execution_count": 7,
   "id": "3facc5ec",
   "metadata": {},
   "outputs": [
    {
     "name": "stdout",
     "output_type": "stream",
     "text": [
      "Prefix expression: /*+abcd\n"
     ]
    }
   ],
   "source": [
    "def postfix_to_prefix(expression):\n",
    "    stack = []\n",
    "    operators = set(['+', '-', '*', '/', '^'])\n",
    "\n",
    "    for char in expression:\n",
    "        if char not in operators:\n",
    "            stack.append(char)\n",
    "        else:\n",
    "            operand2 = stack.pop()\n",
    "            operand1 = stack.pop()\n",
    "            prefix = char + operand1 + operand2\n",
    "            stack.append(prefix)\n",
    "\n",
    "    return stack.pop()\n",
    "\n",
    "expression = 'ab+c*d/'\n",
    "prefix_expression = postfix_to_prefix(expression)\n",
    "print(\"Prefix expression:\", prefix_expression)\n"
   ]
  },
  {
   "cell_type": "markdown",
   "id": "c6626e87",
   "metadata": {},
   "source": [
    "# Write a program to convert prefix expression to infix expression."
   ]
  },
  {
   "cell_type": "code",
   "execution_count": 8,
   "id": "bc197d96",
   "metadata": {},
   "outputs": [
    {
     "name": "stdout",
     "output_type": "stream",
     "text": [
      "Infix expression: ((A-(B/C))*((A/K)-L))\n"
     ]
    }
   ],
   "source": [
    "def prefix_to_infix(prefix):\n",
    "    stack = []\n",
    "    operators = set(['+', '-', '*', '/', '^'])\n",
    "    prefix = prefix[::-1]\n",
    "    for char in prefix:\n",
    "        if char in operators:\n",
    "            op1 = stack.pop()\n",
    "            op2 = stack.pop()\n",
    "            stack.append(\"(\" + op1 + char + op2 + \")\")\n",
    "        else:\n",
    "            stack.append(char)\n",
    "    return stack.pop()\n",
    "\n",
    "prefix = \"*-A/BC-/AKL\"\n",
    "infix = prefix_to_infix(prefix)\n",
    "print(f\"Infix expression: {infix}\")\n"
   ]
  },
  {
   "cell_type": "markdown",
   "id": "7d146e65",
   "metadata": {},
   "source": [
    "# Write a program to check if all the brackets are closed in a given code snippet."
   ]
  },
  {
   "cell_type": "code",
   "execution_count": 10,
   "id": "506236bd",
   "metadata": {},
   "outputs": [
    {
     "name": "stdout",
     "output_type": "stream",
     "text": [
      "True\n",
      "False\n"
     ]
    }
   ],
   "source": [
    "def is_balanced(code):\n",
    "    stack = []\n",
    "    for char in code:\n",
    "        if char in ['(', '{', '[']:\n",
    "            stack.append(char)\n",
    "        elif char in [')', '}', ']']:\n",
    "            if len(stack) == 0:\n",
    "                return False\n",
    "            if char == ')' and stack[-1] == '(':\n",
    "                stack.pop()\n",
    "            elif char == '}' and stack[-1] == '{':\n",
    "                stack.pop()\n",
    "            elif char == ']' and stack[-1] == '[':\n",
    "                stack.pop()\n",
    "            else:\n",
    "                return False\n",
    "    if len(stack) == 0:\n",
    "        return True\n",
    "    else:\n",
    "        return False\n",
    "\n",
    "\n",
    "code1 = \"{ int x = (3 * 5) + (4 / 2) }\"\n",
    "code2 = \"{ int x = (3 * 5) + (4 / 2) }}\"\n",
    "print(is_balanced(code1)) \n",
    "print(is_balanced(code2))\n"
   ]
  },
  {
   "cell_type": "markdown",
   "id": "4be982a7",
   "metadata": {},
   "source": [
    "# Write a program to reverse a stack."
   ]
  },
  {
   "cell_type": "code",
   "execution_count": 14,
   "id": "e1248840",
   "metadata": {},
   "outputs": [],
   "source": [
    "def reverse_stack(stack):\n",
    "    if not stack:\n",
    "        return stack\n",
    "    else:\n",
    "        top = stack.pop()\n",
    "        reverse_stack(stack)\n",
    "        insert_at_bottom(stack, top)\n",
    "\n",
    "def insert_at_bottom(stack, item):\n",
    "    if not stack:\n",
    "        stack.append(item)\n",
    "    else:\n",
    "        top = stack.pop()\n",
    "        insert_at_bottom(stack, item)\n",
    "        stack.append(top)\n"
   ]
  },
  {
   "cell_type": "code",
   "execution_count": null,
   "id": "a4be47f9",
   "metadata": {},
   "outputs": [],
   "source": []
  }
 ],
 "metadata": {
  "kernelspec": {
   "display_name": "Python 3 (ipykernel)",
   "language": "python",
   "name": "python3"
  },
  "language_info": {
   "codemirror_mode": {
    "name": "ipython",
    "version": 3
   },
   "file_extension": ".py",
   "mimetype": "text/x-python",
   "name": "python",
   "nbconvert_exporter": "python",
   "pygments_lexer": "ipython3",
   "version": "3.9.12"
  }
 },
 "nbformat": 4,
 "nbformat_minor": 5
}
