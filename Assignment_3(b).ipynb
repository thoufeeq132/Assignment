{
 "cells": [
  {
   "cell_type": "code",
   "execution_count": 1,
   "id": "2c9e9e83",
   "metadata": {},
   "outputs": [
    {
     "name": "stdout",
     "output_type": "stream",
     "text": [
      "The original string is : 1234abcd\n",
      "The reversed string is : dcba4321\n"
     ]
    }
   ],
   "source": [
    "def reverse(s): \n",
    "    str = \"\" \n",
    "    for i in s: \n",
    "        str = i + str\n",
    "    return str\n",
    "  \n",
    "s = \"1234abcd\"\n",
    "  \n",
    "print(\"The original string is : \", end=\"\") \n",
    "print(s) \n",
    "  \n",
    "print(\"The reversed string is : \", end=\"\") \n",
    "print(reverse(s)) "
   ]
  },
  {
   "cell_type": "code",
   "execution_count": null,
   "id": "18a72718",
   "metadata": {},
   "outputs": [],
   "source": []
  }
 ],
 "metadata": {
  "kernelspec": {
   "display_name": "Python 3 (ipykernel)",
   "language": "python",
   "name": "python3"
  },
  "language_info": {
   "codemirror_mode": {
    "name": "ipython",
    "version": 3
   },
   "file_extension": ".py",
   "mimetype": "text/x-python",
   "name": "python",
   "nbconvert_exporter": "python",
   "pygments_lexer": "ipython3",
   "version": "3.9.12"
  }
 },
 "nbformat": 4,
 "nbformat_minor": 5
}
