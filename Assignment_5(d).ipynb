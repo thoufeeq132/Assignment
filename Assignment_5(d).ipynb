{
 "cells": [
  {
   "cell_type": "markdown",
   "id": "51793922",
   "metadata": {},
   "source": [
    "# Handling a Bank Account"
   ]
  },
  {
   "cell_type": "code",
   "execution_count": 5,
   "id": "771d1c4d",
   "metadata": {},
   "outputs": [],
   "source": [
    "class Account:\n",
    "    \n",
    "    def __init__(self,title,balance=0):\n",
    "        self.title=title\n",
    "        self.balance=balance\n",
    "    \n",
    "class SavingAccount(Account):\n",
    "    \n",
    "    def __init__(self,title,balance=0,InterestRate=0):\n",
    "        self.InterestRate=InterestRate\n",
    "        \n",
    "obj=SavingAccount(\"ashish\",5000,5)"
   ]
  },
  {
   "cell_type": "code",
   "execution_count": null,
   "id": "e533d5c4",
   "metadata": {},
   "outputs": [],
   "source": []
  },
  {
   "cell_type": "code",
   "execution_count": null,
   "id": "29691bb5",
   "metadata": {},
   "outputs": [],
   "source": []
  }
 ],
 "metadata": {
  "kernelspec": {
   "display_name": "Python 3 (ipykernel)",
   "language": "python",
   "name": "python3"
  },
  "language_info": {
   "codemirror_mode": {
    "name": "ipython",
    "version": 3
   },
   "file_extension": ".py",
   "mimetype": "text/x-python",
   "name": "python",
   "nbconvert_exporter": "python",
   "pygments_lexer": "ipython3",
   "version": "3.9.12"
  }
 },
 "nbformat": 4,
 "nbformat_minor": 5
}
