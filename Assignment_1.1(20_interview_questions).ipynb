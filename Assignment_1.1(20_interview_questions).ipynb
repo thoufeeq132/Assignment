{
 "cells": [
  {
   "cell_type": "markdown",
   "id": "4c0dcb94",
   "metadata": {},
   "source": [
    "# Find and read 20 interview questions for Data Types, Operators, Conditional Statements, Looping Statements, Functions."
   ]
  },
  {
   "cell_type": "markdown",
   "id": "cc4c1f0e",
   "metadata": {},
   "source": [
    "Data Types:\n",
    "\n",
    "What are the different data types in Python?\n",
    "What is the difference between a list and a tuple in Python?\n",
    "How do you convert a string to an integer in Python?\n",
    "What is a dictionary in Python?\n",
    "What is the difference between a set and a frozenset in Python?\n",
    "How do you check the type of a variable in Python?\n",
    "What is the difference between a shallow copy and a deep copy in Python?\n",
    "What is a complex number in Python?\n",
    "How do you create an empty list in Python?\n",
    "What is the maximum value of an integer in Python?\n",
    "What is the difference between a list and a tuple in Python?\n",
    "How can you convert a string to a list in Python?\n",
    "What is the difference between shallow and deep copying in Python?\n",
    "What is a dictionary in Python and how is it different from a list?\n",
    "How can you check the data type of a variable in Python?\n",
    "What is the difference between a float and an integer in Python?\n",
    "What is a set in Python and how is it different from a list or a tuple?\n",
    "How can you convert a string to an integer in Python?\n",
    "What is a complex number in Python and how is it represented?\n",
    "How can you create an empty list, tuple, dictionary, or set in Python?\n"
   ]
  },
  {
   "cell_type": "markdown",
   "id": "e218546a",
   "metadata": {},
   "source": [
    "Operators:\n",
    "\n",
    "What is the difference between the == and the is operator in Python?\n",
    "What are the different logical operators in Python?\n",
    "What is the order of precedence for operators in Python?\n",
    "What is the difference between the + and the * operator for lists in Python?\n",
    "What is the difference between the & and the | operator for sets in Python?\n",
    "What is the difference between the / and // operators in Python?\n",
    "What is the purpose of the ** operator in Python?\n",
    "How do you perform a bitwise operation in Python?\n",
    "What is the difference between the in and the not in operator in Python?\n",
    "What is the difference between the += and the =+ operator in Python?\n",
    "What is the difference between == and is in Python?\n",
    "What is the difference between logical AND and bitwise AND in Python?\n",
    "How can you compare two lists in Python?\n",
    "What is the difference between + and += in Python?\n",
    "What is a ternary operator in Python and how is it used?\n",
    "How can you perform bitwise operations in Python?\n",
    "What is the difference between / and // in Python?\n",
    "What is the difference between != and <> in Python?\n",
    "How can you perform exponentiation in Python?\n",
    "What is the order of precedence for operators in Python?"
   ]
  },
  {
   "cell_type": "markdown",
   "id": "021aad4f",
   "metadata": {},
   "source": [
    "Conditional Statements:\n",
    "\n",
    "What are the different conditional statements in Python?\n",
    "What is the syntax for an if statement in Python?\n",
    "What is the difference between an if statement and a while loop in Python?\n",
    "What is the difference between the and and the or operator in Python?\n",
    "What is the difference between a for loop and a list comprehension in Python?\n",
    "How do you use the elif statement in Python?\n",
    "What is the difference between the break and the continue statement in Python?\n",
    "What is the difference between a try-except statement and a try-finally statement in Python?\n",
    "How do you use the assert statement in Python?\n",
    "What is the purpose of the pass statement in Python?\n",
    "What is the difference between if and elif in Python?\n",
    "How can you use the pass statement in Python?\n",
    "What is a nested if statement in Python and how is it used?\n",
    "What is the difference between == and = in Python?\n",
    "How can you use the ternary operator in a conditional statement in Python?\n",
    "How can you use the assert statement in Python?\n",
    "What is the difference between a while loop and a for loop in Python?\n",
    "What is the difference between break and continue in a loop in Python?\n",
    "How can you use the try-except statement in Python?\n",
    "How can you use the else statement with a try-except block in Python?"
   ]
  },
  {
   "cell_type": "markdown",
   "id": "fe18d33d",
   "metadata": {},
   "source": [
    "Looping Statements:\n",
    "\n",
    "What are the different looping statements in Python?\n",
    "What is the syntax for a for loop in Python?\n",
    "What is the difference between a for loop and a while loop in Python?\n",
    "What is the difference between a break statement and a continue statement in Python?\n",
    "How do you use the range function in Python?\n",
    "What is the difference between a for loop and a list comprehension in Python?\n",
    "How do you use the enumerate function in Python?\n",
    "What is the purpose of the zip function in Python?\n",
    "What is the difference between the any and the all function in Python?\n",
    "What is the purpose of the map function in Python?\n",
    "What is the difference between a while loop and a for loop in Python?\n",
    "How can you use the range() function in a loop in Python?\n",
    "What is a nested loop in Python and how is it used?\n",
    "How can you use the enumerate() function in a loop in Python?\n",
    "What is the difference between a break and continue statement in a loop in Python?\n",
    "How can you use the else statement in a loop in Python?\n",
    "What is the difference between a list comprehension and a for loop in Python?\n",
    "How can you loop over a dictionary in Python?\n",
    "What is the difference between a generator expression and a list comprehension in Python?\n",
    "How can you use the zip() function in a loop in Python?"
   ]
  },
  {
   "cell_type": "code",
   "execution_count": null,
   "id": "0bb65f0c",
   "metadata": {},
   "outputs": [],
   "source": [
    "Functions:\n",
    "\n",
    "What is a function in Python?\n",
    "What is the syntax for defining a function in Python?\n",
    "What is the difference between a return statement and a print statement in Python?\n",
    "What is the difference between a parameter and an argument in Python?\n",
    "How do you use the *args and **kwargs parameters in Python?\n",
    "What is the purpose of the lambda function in Python?\n",
    "What is the difference between a local variable and a global variable in Python?\n",
    "How do you use the import statement in Python?\n",
    "What is the difference between a built-in function and a user-defined function in Python?\n",
    "What is the purpose of the help function in Python?\n",
    "What is a function in Python and how is it defined?\n",
    "What is the difference between a function and a method in Python?\n",
    "How can you use default arguments in a function in Python?\n",
    "What is the difference between positional and keyword arguments in a function in Python?\n",
    "How can you use *args and **kwargs in a function in Python?\n",
    "What is a lambda function in Python and how is it used?\n",
    "What is a closure in Python and how is it used?\n",
    "How can you use the map() function in Python?\n",
    "How can you use the filter() function in Python?\n",
    "What is the difference between return and yield in a function in Python?"
   ]
  },
  {
   "cell_type": "code",
   "execution_count": null,
   "id": "890bd227",
   "metadata": {},
   "outputs": [],
   "source": []
  }
 ],
 "metadata": {
  "kernelspec": {
   "display_name": "Python 3 (ipykernel)",
   "language": "python",
   "name": "python3"
  },
  "language_info": {
   "codemirror_mode": {
    "name": "ipython",
    "version": 3
   },
   "file_extension": ".py",
   "mimetype": "text/x-python",
   "name": "python",
   "nbconvert_exporter": "python",
   "pygments_lexer": "ipython3",
   "version": "3.9.12"
  }
 },
 "nbformat": 4,
 "nbformat_minor": 5
}
