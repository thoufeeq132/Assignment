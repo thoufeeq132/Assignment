{
 "cells": [
  {
   "cell_type": "markdown",
   "id": "a06392a9",
   "metadata": {},
   "source": [
    "# Implement the Complete Student Class"
   ]
  },
  {
   "cell_type": "code",
   "execution_count": 3,
   "id": "c7fb91c6",
   "metadata": {},
   "outputs": [],
   "source": [
    "class Student:\n",
    "    def __init__(self):\n",
    "        self.__name = None\n",
    "        self.__rollNumber = None\n",
    "\n",
    "    def setName(self, name):\n",
    "        self.__name = name\n",
    "\n",
    "    def getName(self):\n",
    "        return self.__name\n",
    "\n",
    "    def setRollNumber(self, rollNumber):\n",
    "        self.__rollNumber = rollNumber\n",
    "\n",
    "    def getRollNumber(self):\n",
    "        return self.__rollNumber\n"
   ]
  },
  {
   "cell_type": "code",
   "execution_count": 2,
   "id": "77324f52",
   "metadata": {},
   "outputs": [],
   "source": []
  },
  {
   "cell_type": "code",
   "execution_count": null,
   "id": "df60ed7d",
   "metadata": {},
   "outputs": [],
   "source": []
  }
 ],
 "metadata": {
  "kernelspec": {
   "display_name": "Python 3 (ipykernel)",
   "language": "python",
   "name": "python3"
  },
  "language_info": {
   "codemirror_mode": {
    "name": "ipython",
    "version": 3
   },
   "file_extension": ".py",
   "mimetype": "text/x-python",
   "name": "python",
   "nbconvert_exporter": "python",
   "pygments_lexer": "ipython3",
   "version": "3.9.12"
  }
 },
 "nbformat": 4,
 "nbformat_minor": 5
}
