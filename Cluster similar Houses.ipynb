{
 "cells": [
  {
   "cell_type": "code",
   "execution_count": 2,
   "id": "38274328",
   "metadata": {},
   "outputs": [
    {
     "name": "stderr",
     "output_type": "stream",
     "text": [
      "C:\\Users\\91755\\anaconda3\\lib\\site-packages\\sklearn\\cluster\\_kmeans.py:1036: UserWarning: KMeans is known to have a memory leak on Windows with MKL, when there are less chunks than available threads. You can avoid it by setting the environment variable OMP_NUM_THREADS=3.\n",
      "  warnings.warn(\n"
     ]
    },
    {
     "data": {
      "image/png": "[encoded data removed]",
      "text/plain": [
       "<Figure size 432x288 with 1 Axes>"
      ]
     },
     "metadata": {
      "needs_background": "light"
     },
     "output_type": "display_data"
    },
    {
     "name": "stdout",
     "output_type": "stream",
     "text": [
      "     Unnamed: 0  Floor  TotalFloor  Bedroom  Living Room  Bathroom  Cluster\n",
      "0             1      2           7        2            2         2        0\n",
      "1             2      5           7        4            2         2        0\n",
      "2             3      5           7        2            2         1        2\n",
      "3             4      2           7        3            2         2        0\n",
      "4             5     11          14        3            2         2        1\n",
      "..          ...    ...         ...      ...          ...       ...      ...\n",
      "640         644      7          15        3            2         2        1\n",
      "641         645      4          10        1            1         1        2\n",
      "642         646     13          14        1            1         1        2\n",
      "643         647      3          14        3            2         2        0\n",
      "644         648      6           7        3            2         1        0\n",
      "\n",
      "[645 rows x 7 columns]\n"
     ]
    }
   ],
   "source": [
    "import pandas as pd\n",
    "from sklearn.cluster import KMeans\n",
    "from sklearn.preprocessing import StandardScaler\n",
    "import matplotlib.pyplot as plt\n",
    "\n",
    "# Load the dataset\n",
    "data = pd.read_csv('house_rent.csv')\n",
    "\n",
    "# Data cleaning\n",
    "data = data.drop(['Sqft', 'Price'], axis=1)\n",
    "\n",
    "# Feature scaling\n",
    "scaler = StandardScaler()\n",
    "scaled_data = scaler.fit_transform(data)\n",
    "\n",
    "# Finding the optimal value of k using the elbow method\n",
    "sse = []\n",
    "k_values = range(1, 10)  \n",
    "for k in k_values:\n",
    "    kmeans = KMeans(n_clusters=k, random_state=42)\n",
    "    kmeans.fit(scaled_data)\n",
    "    sse.append(kmeans.inertia_)\n",
    "\n",
    "# Plotting the SSE for each k value\n",
    "plt.plot(k_values, sse, 'bx-')\n",
    "plt.xlabel('Number of Clusters (k)')\n",
    "plt.ylabel('Sum of Squared Distances')\n",
    "plt.title('Elbow Method')\n",
    "plt.show()\n",
    "\n",
    "# Choose the optimal k value based on the elbow point in the plot\n",
    "optimal_k = 3  # Example: chosen k value\n",
    "\n",
    "# Perform K-means clustering with the optimal k value\n",
    "kmeans = KMeans(n_clusters=optimal_k, random_state=42)\n",
    "clusters = kmeans.fit_predict(scaled_data)\n",
    "\n",
    "# Store the cluster assignment along with the original data\n",
    "data['Cluster'] = clusters\n",
    "\n",
    "# Print the data with cluster assignments\n",
    "print(data)\n"
   ]
  },
  {
   "cell_type": "code",
   "execution_count": null,
   "id": "9df6530c",
   "metadata": {},
   "outputs": [],
   "source": []
  }
 ],
 "metadata": {
  "kernelspec": {
   "display_name": "Python 3 (ipykernel)",
   "language": "python",
   "name": "python3"
  },
  "language_info": {
   "codemirror_mode": {
    "name": "ipython",
    "version": 3
   },
   "file_extension": ".py",
   "mimetype": "text/x-python",
   "name": "python",
   "nbconvert_exporter": "python",
   "pygments_lexer": "ipython3",
   "version": "3.9.12"
  }
 },
 "nbformat": 4,
 "nbformat_minor": 5
}
