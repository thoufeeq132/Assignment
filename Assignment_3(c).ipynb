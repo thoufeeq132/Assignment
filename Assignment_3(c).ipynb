{
 "cells": [
  {
   "cell_type": "code",
   "execution_count": 12,
   "id": "cedd55bb",
   "metadata": {},
   "outputs": [
    {
     "name": "stdout",
     "output_type": "stream",
     "text": [
      "Lower case character = 12\n",
      "Upper case character = 3\n"
     ]
    }
   ],
   "source": [
    "def upperlower(string):\n",
    " \n",
    "    upper = 0\n",
    "    lower = 0\n",
    " \n",
    "    for i in range(len(string)):\n",
    "        \n",
    "        if (ord(string[i]) >= 97 and\n",
    "            ord(string[i]) <= 122):\n",
    "            lower += 1\n",
    "        elif (ord(string[i]) >= 65 and\n",
    "            ord(string[i]) <= 90):\n",
    "            upper += 1\n",
    "    print('Lower case characters =',end=\" \")\n",
    "    print(lower)\n",
    "    print('Upper case character =',end=\" \")\n",
    "    print(upper)\n",
    "string = 'The quick Brow Fox'\n",
    "upperlower(string)"
   ]
  },
  {
   "cell_type": "code",
   "execution_count": null,
   "id": "8dd46f90",
   "metadata": {},
   "outputs": [],
   "source": []
  }
 ],
 "metadata": {
  "kernelspec": {
   "display_name": "Python 3 (ipykernel)",
   "language": "python",
   "name": "python3"
  },
  "language_info": {
   "codemirror_mode": {
    "name": "ipython",
    "version": 3
   },
   "file_extension": ".py",
   "mimetype": "text/x-python",
   "name": "python",
   "nbconvert_exporter": "python",
   "pygments_lexer": "ipython3",
   "version": "3.9.12"
  }
 },
 "nbformat": 4,
 "nbformat_minor": 5
}
