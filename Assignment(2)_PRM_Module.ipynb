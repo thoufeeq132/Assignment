{
 "cells": [
  {
   "cell_type": "markdown",
   "id": "3bad9907",
   "metadata": {},
   "source": [
    "# Validate Triangle and Rectangle"
   ]
  },
  {
   "cell_type": "code",
   "execution_count": 10,
   "id": "1693ea77",
   "metadata": {},
   "outputs": [
    {
     "name": "stdout",
     "output_type": "stream",
     "text": [
      "3 4 5\n",
      "Valid Triangle\n",
      "24 2 4\n",
      "Invalid rectangle\n"
     ]
    }
   ],
   "source": [
    "class Triangle:\n",
    "    def __init__(self, a, b, c):\n",
    "        self.a = a\n",
    "        self.b = b\n",
    "        self.c = c\n",
    "\n",
    "    def validate_triangle(self):\n",
    "        if self.a + self.b > self.c and self.a + self.c > self.b and self.b + self.c > self.a:\n",
    "            return \"Valid Triangle\"\n",
    "        else:\n",
    "            return \"Invalid Triangle\"\n",
    "\n",
    "class Rectangle:\n",
    "    def __init__(self, l1, b1, l2, b2):\n",
    "        self.l1 = l1\n",
    "        self.b1 = b1\n",
    "        self.l2 = l2\n",
    "        self.b2 = b2\n",
    "\n",
    "    def validate_rectangle(self):\n",
    "        if self.l1 == self.l2 and self.b1 == self.b2 and self.l1 != self.b1:\n",
    "            return \"Valid Rectangle\"\n",
    "        else:\n",
    "            return \"Invalid Rectangle\"\n",
    "\n",
    "\n",
    "\n",
    "a, b, c = map(int, input().split())\n",
    "triangle = Triangle(a, b, c)\n",
    "print(triangle.validate_triangle())\n",
    "\n",
    "\n",
    "sides = input().split()\n",
    "if len(sides) == 4:\n",
    "    l1, b1, l2, b2 = map(int, sides)\n",
    "    rectangle = Rectangle(l1, b1, l2, b2)\n",
    "    print(rectangle.validate_rectangle())\n",
    "else:\n",
    "    print(\"Invalid rectangle\")\n"
   ]
  },
  {
   "cell_type": "code",
   "execution_count": null,
   "id": "9654f098",
   "metadata": {},
   "outputs": [],
   "source": []
  }
 ],
 "metadata": {
  "kernelspec": {
   "display_name": "Python 3 (ipykernel)",
   "language": "python",
   "name": "python3"
  },
  "language_info": {
   "codemirror_mode": {
    "name": "ipython",
    "version": 3
   },
   "file_extension": ".py",
   "mimetype": "text/x-python",
   "name": "python",
   "nbconvert_exporter": "python",
   "pygments_lexer": "ipython3",
   "version": "3.9.12"
  }
 },
 "nbformat": 4,
 "nbformat_minor": 5
}
