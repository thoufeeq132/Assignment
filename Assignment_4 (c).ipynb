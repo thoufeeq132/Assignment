{
 "cells": [
  {
   "cell_type": "markdown",
   "id": "7a85b872",
   "metadata": {},
   "source": [
    "# Write a Python program to square the elements of a list using map() function."
   ]
  },
  {
   "cell_type": "code",
   "execution_count": 1,
   "id": "200d4f11",
   "metadata": {},
   "outputs": [
    {
     "name": "stdout",
     "output_type": "stream",
     "text": [
      "Square of elements in List is : [16, 25, 4, 81]\n"
     ]
    }
   ],
   "source": [
    "List = [4, 5, 2, 9]\n",
    "obj = map(lambda x : x*x , List)\n",
    "print(\"Square of elements in List is :\",list(obj))"
   ]
  },
  {
   "cell_type": "code",
   "execution_count": null,
   "id": "c1286332",
   "metadata": {},
   "outputs": [],
   "source": []
  }
 ],
 "metadata": {
  "kernelspec": {
   "display_name": "Python 3 (ipykernel)",
   "language": "python",
   "name": "python3"
  },
  "language_info": {
   "codemirror_mode": {
    "name": "ipython",
    "version": 3
   },
   "file_extension": ".py",
   "mimetype": "text/x-python",
   "name": "python",
   "nbconvert_exporter": "python",
   "pygments_lexer": "ipython3",
   "version": "3.9.12"
  }
 },
 "nbformat": 4,
 "nbformat_minor": 5
}
