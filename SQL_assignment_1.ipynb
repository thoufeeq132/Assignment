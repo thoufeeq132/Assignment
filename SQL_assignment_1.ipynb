{
 "cells": [
  {
   "cell_type": "markdown",
   "id": "32badab7",
   "metadata": {},
   "source": [
    "# create database"
   ]
  },
  {
   "cell_type": "markdown",
   "id": "a41df652",
   "metadata": {},
   "source": [
    "![Alt Text](create_database.png)"
   ]
  },
  {
   "cell_type": "markdown",
   "id": "35fb22bb",
   "metadata": {},
   "source": [
    "## Create Tables"
   ]
  },
  {
   "cell_type": "markdown",
   "id": "f4016b5c",
   "metadata": {},
   "source": [
    "![Alt Text](create_tables.png)"
   ]
  },
  {
   "cell_type": "markdown",
   "id": "eb3d5906",
   "metadata": {},
   "source": [
    "## Insert Values"
   ]
  },
  {
   "cell_type": "markdown",
   "id": "efe0de4c",
   "metadata": {},
   "source": [
    "![Alt Text](insert_values.png)"
   ]
  },
  {
   "cell_type": "markdown",
   "id": "ebd238e8",
   "metadata": {},
   "source": [
    "## show tables"
   ]
  },
  {
   "cell_type": "markdown",
   "id": "9663bf81",
   "metadata": {},
   "source": [
    "![Alt Text](show_tables.png)"
   ]
  },
  {
   "cell_type": "markdown",
   "id": "c8b50d8b",
   "metadata": {},
   "source": [
    "## 1.Count the number of Salesperson whose name begin with ‘a’/’A’.\n",
    "## 2.Display all the Salesperson whose all orders worth is more than Rs. 2000.\n",
    "## 3.Count the number of Salesperson belonging to Newyork.\n",
    "## 4.Display the number of Salespeople belonging to London and belonging to Paris."
   ]
  },
  {
   "cell_type": "markdown",
   "id": "9087b51c",
   "metadata": {},
   "source": [
    "![Alt Text](1-4.png)"
   ]
  },
  {
   "cell_type": "markdown",
   "id": "380dc44e",
   "metadata": {},
   "source": [
    "## 5.Display the number of orders taken by each Salesperson and their date of orders.\n"
   ]
  },
  {
   "cell_type": "markdown",
   "id": "b77f415c",
   "metadata": {},
   "source": [
    "![Alt Text](5.png)"
   ]
  },
  {
   "cell_type": "code",
   "execution_count": null,
   "id": "53c2d7b1",
   "metadata": {},
   "outputs": [],
   "source": []
  }
 ],
 "metadata": {
  "kernelspec": {
   "display_name": "Python 3 (ipykernel)",
   "language": "python",
   "name": "python3"
  },
  "language_info": {
   "codemirror_mode": {
    "name": "ipython",
    "version": 3
   },
   "file_extension": ".py",
   "mimetype": "text/x-python",
   "name": "python",
   "nbconvert_exporter": "python",
   "pygments_lexer": "ipython3",
   "version": "3.9.12"
  }
 },
 "nbformat": 4,
 "nbformat_minor": 5
}
